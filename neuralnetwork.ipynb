{
 "cells": [
  {
   "attachments": {},
   "cell_type": "markdown",
   "metadata": {},
   "source": [
    "神经网络——手写数字识别"
   ]
  },
  {
   "cell_type": "code",
   "execution_count": 19,
   "metadata": {},
   "outputs": [],
   "source": [
    "import numpy\n",
    "# scipy.special为sigmoid功能实现\n",
    "import scipy.special\n",
    "import matplotlib.pyplot\n",
    "\n",
    "\n",
    "# 定义神经网络类\n",
    "class neuralNetwork:\n",
    "    # 初始化类\n",
    "    def __init__(self, inputnodes, hiddennodes, outputnodes, learningrate):\n",
    "        # 设置每次输入的输入层节点、隐藏层节点、输出层节点数量\n",
    "        self.inodes = inputnodes\n",
    "        self.hnodes = hiddennodes\n",
    "        self.onodes = outputnodes\n",
    "\n",
    "        # 连接权重矩阵，分别为输入——隐藏：wih 和隐藏——输出：who\n",
    "        # 权重插入矩阵为w_i_j，连接的是下一层的节点i到节点j\n",
    "        # w11 w21\n",
    "        # w12 w22 etc\n",
    "        self.wih = (numpy.random.normal(0.0, pow(self.hnodes, -0.5), (self.hnodes, self.inodes)))\n",
    "        self.who = (numpy.random.normal(0.0, pow(self.onodes, -0.5), (self.onodes, self.hnodes)))\n",
    "\n",
    "        # 学习率\n",
    "        self.lr = learningrate\n",
    "\n",
    "        # 定义activation方法用来创建匿名函数实现sigmoid功能\n",
    "        self.activation_function = lambda x: scipy.special.expit(x)\n",
    "\n",
    "        pass\n",
    "\n",
    "    # 训练神经网络\n",
    "    def train(self, inputs_list, targets_list):\n",
    "        # 将输入填入二维数组\n",
    "        inputs = numpy.array(inputs_list, ndmin=2).T\n",
    "        targets = numpy.array(targets_list, ndmin=2).T\n",
    "\n",
    "        # 计算传入隐藏层的信号\n",
    "        hidden_inputs = numpy.dot(self.wih, inputs)\n",
    "        # 计算隐藏层的输出信号\n",
    "        hidden_outputs = self.activation_function(hidden_inputs)\n",
    "\n",
    "        # 计算传入输出层的信号\n",
    "        final_inputs = numpy.dot(self.who, hidden_outputs)\n",
    "        # 计算输出层的输出信号\n",
    "        final_outputs = self.activation_function(final_inputs)\n",
    "\n",
    "        # 计算误差(目标值 - 实际值)\n",
    "        output_errors = targets - final_outputs\n",
    "\n",
    "        # 计算隐藏层节点反向传播误差（who矩阵点乘输出误差矩阵）\n",
    "        hidden_errors = numpy.dot(self.who.T, output_errors)\n",
    "\n",
    "        # 更新连接隐藏层和输出层的权重矩阵\n",
    "        self.who += self.lr * numpy.dot((output_errors * final_outputs * (1.0 - final_outputs)), numpy.transpose(hidden_outputs))\n",
    "        # 更新连接输入层和隐藏层的权重矩阵\n",
    "        self.wih += self.lr * numpy.dot((hidden_errors * hidden_outputs * (1.0 - hidden_outputs)), numpy.transpose(inputs))\n",
    "\n",
    "        pass\n",
    "\n",
    "    # 查询神经网络\n",
    "    def query(self, inputs_list):\n",
    "        # 将输入填入二维数组\n",
    "        inputs = numpy.array(inputs_list, ndmin=2).T\n",
    "\n",
    "        # 计算传入隐藏层的信号\n",
    "        hidden_inputs = numpy.dot(self.wih, inputs)\n",
    "        # 计算隐藏层的输出信号\n",
    "        hidden_outputs = self.activation_function(hidden_inputs)\n",
    "\n",
    "        # 计算传入输出层的信号\n",
    "        final_inputs = numpy.dot(self.who, hidden_outputs)\n",
    "        # 计算输出层的输出信号\n",
    "        final_outputs = self.activation_function(final_inputs)\n",
    "        return final_outputs\n"
   ]
  },
  {
   "attachments": {},
   "cell_type": "markdown",
   "metadata": {},
   "source": [
    "训练模型"
   ]
  },
  {
   "cell_type": "code",
   "execution_count": 24,
   "metadata": {},
   "outputs": [],
   "source": [
    "# 训练模型\n",
    "# 输入层、隐藏层、输出层节点数\n",
    "input_nodes = 784\n",
    "hidden_nodes = 100\n",
    "output_nodes = 10\n",
    "\n",
    "# 学习率\n",
    "learing_rate = 0.3\n",
    "\n",
    "# 创建神经网络实例\n",
    "n = neuralNetwork(input_nodes, hidden_nodes, output_nodes, learing_rate)\n",
    "\n",
    "# 载入训练集\n",
    "training_data_file = open(\"mnist_train.csv\",'r')\n",
    "training_data_list = training_data_file.readlines()\n",
    "training_data_file.close()\n",
    "\n",
    "# 训练神经网络\n",
    "# 遍历训练数据集\n",
    "for record in training_data_list:\n",
    "    # 按逗号分隔数据信息\n",
    "    all_values = record.split(',')\n",
    "    # 载入输入信息\n",
    "    inputs = (numpy.asfarray(all_values[1:])/255.0*0.99)+0.01\n",
    "    # 创建目标输出数据\n",
    "    targets = numpy.zeros(output_nodes) + 0.01\n",
    "    # all_values[0]是目标标签\n",
    "    targets[int(all_values[0])] = 0.99\n",
    "    n.train(inputs, targets)\n",
    "    pass\n"
   ]
  },
  {
   "attachments": {},
   "cell_type": "markdown",
   "metadata": {},
   "source": [
    "测试模型"
   ]
  },
  {
   "cell_type": "code",
   "execution_count": 21,
   "metadata": {},
   "outputs": [
    {
     "name": "stdout",
     "output_type": "stream",
     "text": [
      "0\n"
     ]
    }
   ],
   "source": [
    "# 载入测试数据集\n",
    "test_data_file = open(\"mnist_test.csv\",'r')\n",
    "test_data_list = test_data_file.readlines()\n",
    "test_data_file.close()\n",
    "\n",
    "all_values = test_data_list[3].split(',')\n",
    "inputs = (numpy.asfarray(all_values[1:])/255.0*0.99)+0.01\n",
    "out = n.query(inputs)\n",
    "outnum = numpy.argmax(out)\n",
    "print(outnum)"
   ]
  },
  {
   "cell_type": "code",
   "execution_count": 22,
   "metadata": {},
   "outputs": [
    {
     "data": {
      "text/plain": [
       "<matplotlib.image.AxesImage at 0x245cea65cc0>"
      ]
     },
     "execution_count": 22,
     "metadata": {},
     "output_type": "execute_result"
    },
    {
     "data": {
      "image/png": "[encoded data removed]",
      "text/plain": [
       "<Figure size 640x480 with 1 Axes>"
      ]
     },
     "metadata": {},
     "output_type": "display_data"
    }
   ],
   "source": [
    "image_array = numpy.asfarray(all_values[1:]).reshape((28,28))\n",
    "matplotlib.pyplot.imshow(image_array, cmap='Greys',interpolation='None')"
   ]
  },
  {
   "attachments": {},
   "cell_type": "markdown",
   "metadata": {},
   "source": [
    "测试训练模型的准确性"
   ]
  },
  {
   "cell_type": "code",
   "execution_count": 25,
   "metadata": {},
   "outputs": [
    {
     "name": "stdout",
     "output_type": "stream",
     "text": [
      "performance =  0.9467\n"
     ]
    }
   ],
   "source": [
    "# 测试神经网络的准确性\n",
    "# 载入测试数据\n",
    "test_data_file = open(\"mnist_test.csv\",'r')\n",
    "test_data_list = test_data_file.readlines()\n",
    "test_data_file.close()\n",
    "\n",
    "scorecord = []\n",
    "\n",
    "# 测试结果与标签进行匹配\n",
    "for record in test_data_list:\n",
    "    all_values = record.split(',')\n",
    "    correct_label = int(all_values[0])\n",
    "    inputs = (numpy.asfarray(all_values[1:])/255.0*0.99)+0.01\n",
    "    outputs = n.query(inputs)\n",
    "    label = numpy.argmax(outputs)\n",
    "    if label == correct_label:\n",
    "        scorecord.append(1)\n",
    "    else:\n",
    "        scorecord.append(0)\n",
    "        pass\n",
    "    pass\n",
    "\n",
    "# 计算准确率\n",
    "scorecord_array = numpy.asarray(scorecord)\n",
    "print(\"performance = \",scorecord_array.sum()/scorecord_array.size)"
   ]
  },
  {
   "attachments": {},
   "cell_type": "markdown",
   "metadata": {},
   "source": [
    "手写体测试"
   ]
  },
  {
   "cell_type": "code",
   "execution_count": 39,
   "metadata": {},
   "outputs": [
    {
     "name": "stdout",
     "output_type": "stream",
     "text": [
      "手写数字识别为： 6\n"
     ]
    },
    {
     "name": "stderr",
     "output_type": "stream",
     "text": [
      "C:\\Users\\BeiFeng\\AppData\\Local\\Temp\\ipykernel_15496\\4326949.py:2: DeprecationWarning: Starting with ImageIO v3 the behavior of this function will switch to that of iio.v3.imread. To keep the current behavior (and make this warning disappear) use `import imageio.v2 as imageio` or call `imageio.v2.imread` directly.\n",
      "  img_array = imageio.imread(\"number.png\", as_gray=True)\n"
     ]
    }
   ],
   "source": [
    "import imageio\n",
    "img_array = imageio.imread(\"number.png\", as_gray=True)\n",
    "img_data  = 255.0 - img_array.reshape(784)\n",
    "img_data = (img_data / 255.0 * 0.99) + 0.01\n",
    "out = n.query(img_data)\n",
    "outnum = numpy.argmax(out)\n",
    "print(\"手写数字识别为：\",outnum)"
   ]
  }
 ],
 "metadata": {
  "kernelspec": {
   "display_name": "Python 3",
   "language": "python",
   "name": "python3"
  },
  "language_info": {
   "codemirror_mode": {
    "name": "ipython",
    "version": 3
   },
   "file_extension": ".py",
   "mimetype": "text/x-python",
   "name": "python",
   "nbconvert_exporter": "python",
   "pygments_lexer": "ipython3",
   "version": "3.10.9"
  },
  "orig_nbformat": 4
 },
 "nbformat": 4,
 "nbformat_minor": 2
}
